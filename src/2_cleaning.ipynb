{
 "cells": [
  {
   "cell_type": "code",
   "execution_count": 1,
   "metadata": {},
   "outputs": [],
   "source": [
    "import numpy as np\n",
    "from IPython.display import clear_output"
   ]
  },
  {
   "cell_type": "code",
   "execution_count": 2,
   "metadata": {},
   "outputs": [],
   "source": [
    "data_direct = np.load('../data/direct_citations.npy', allow_pickle=True)"
   ]
  },
  {
   "cell_type": "code",
   "execution_count": 3,
   "metadata": {},
   "outputs": [],
   "source": [
    "BERT_PAPER_ID = 'df2b0e26d0599ce3e70df8a9da02e51594e0e992'"
   ]
  },
  {
   "cell_type": "code",
   "execution_count": 4,
   "metadata": {},
   "outputs": [],
   "source": [
    "direct_cit_ids = [cit['citingPaper']['paperId'] for cit in data_direct]"
   ]
  },
  {
   "cell_type": "code",
   "execution_count": 5,
   "metadata": {},
   "outputs": [
    {
     "data": {
      "text/plain": [
       "9999"
      ]
     },
     "execution_count": 5,
     "metadata": {},
     "output_type": "execute_result"
    }
   ],
   "source": [
    "len(direct_cit_ids)"
   ]
  },
  {
   "cell_type": "code",
   "execution_count": 6,
   "metadata": {},
   "outputs": [],
   "source": [
    "direct_cit_ids = list(set(direct_cit_ids))"
   ]
  },
  {
   "cell_type": "code",
   "execution_count": 7,
   "metadata": {},
   "outputs": [],
   "source": [
    "data_indirect = np.load('../data/indirect_citations.npy', allow_pickle=True)"
   ]
  },
  {
   "cell_type": "code",
   "execution_count": 8,
   "metadata": {},
   "outputs": [],
   "source": [
    "bert_cit = {BERT_PAPER_ID : direct_cit_ids}"
   ]
  },
  {
   "cell_type": "code",
   "execution_count": 9,
   "metadata": {},
   "outputs": [],
   "source": [
    "data_indirect = np.delete(data_indirect, [1530, 5194])"
   ]
  },
  {
   "cell_type": "code",
   "execution_count": 10,
   "metadata": {},
   "outputs": [],
   "source": [
    "cits = []\n",
    "for sample in data_indirect:\n",
    "    key = list(sample.keys())[0]\n",
    "    d = {key: []}\n",
    "    for cit in sample[key]:\n",
    "        d[key].append(cit['citingPaper']['paperId'])\n",
    "    cits.append(d)"
   ]
  },
  {
   "cell_type": "code",
   "execution_count": 11,
   "metadata": {},
   "outputs": [
    {
     "data": {
      "text/plain": [
       "9994"
      ]
     },
     "execution_count": 11,
     "metadata": {},
     "output_type": "execute_result"
    }
   ],
   "source": [
    "len(bert_cit[BERT_PAPER_ID])"
   ]
  },
  {
   "cell_type": "code",
   "execution_count": 12,
   "metadata": {},
   "outputs": [],
   "source": [
    "for cit in cits:\n",
    "    key = list(cit.keys())[0]\n",
    "    bert_second_level_cits = cit[key]\n",
    "    for s_l_cit in bert_second_level_cits:\n",
    "        if s_l_cit in bert_cit[BERT_PAPER_ID]:\n",
    "            bert_cit[BERT_PAPER_ID].pop(bert_cit[BERT_PAPER_ID].index(s_l_cit))"
   ]
  },
  {
   "cell_type": "code",
   "execution_count": 13,
   "metadata": {},
   "outputs": [
    {
     "data": {
      "text/plain": [
       "5220"
      ]
     },
     "execution_count": 13,
     "metadata": {},
     "output_type": "execute_result"
    }
   ],
   "source": [
    "len(bert_cit[BERT_PAPER_ID])"
   ]
  },
  {
   "cell_type": "code",
   "execution_count": 14,
   "metadata": {},
   "outputs": [],
   "source": [
    "cits.append(bert_cit)"
   ]
  },
  {
   "cell_type": "code",
   "execution_count": 15,
   "metadata": {},
   "outputs": [],
   "source": [
    "unique_ids = []\n",
    "for cit in cits:\n",
    "    key = list(cit.keys())[0]\n",
    "    unique_ids.append(key)\n",
    "    unique_ids.extend(cit[key])"
   ]
  },
  {
   "cell_type": "code",
   "execution_count": 16,
   "metadata": {},
   "outputs": [],
   "source": [
    "unique_ids = list(set(unique_ids))"
   ]
  },
  {
   "cell_type": "code",
   "execution_count": 17,
   "metadata": {},
   "outputs": [
    {
     "data": {
      "text/plain": [
       "27444"
      ]
     },
     "execution_count": 17,
     "metadata": {},
     "output_type": "execute_result"
    }
   ],
   "source": [
    "len(set(unique_ids))"
   ]
  },
  {
   "cell_type": "code",
   "execution_count": 18,
   "metadata": {},
   "outputs": [],
   "source": [
    "faulty = [\n",
    "     '80cbe3f92d5fb20e5fad53b4659b9bcb5733ad4a',\n",
    "     '3fd0f34117cf9395130e08c3f02ac2dadcca7206',\n",
    "     '78b3ad1123cf693c74b1be0097f3f1a8ecb2ace3',\n",
    "     '2e3196e4a71338816b5c405a38d137faf18209ef',\n",
    "     '78590d84bbbd46176262c104ad728e492389a4dd',\n",
    "     '752e19ada610149f5b1fe679f9ab3e00a3500c15',\n",
    "     'c143a87231aa55d2c1718e476725861c7e368828',\n",
    "     '5e1657676c7c486f314cbdf183e26b4c1405ca1b',\n",
    "     '1225570385519c03b9f9ee9b1e5a232de6228db3',\n",
    "     'ce693eac698fe6c6701be2e2b5b34f466be3b8ad',\n",
    "     '56d57505e2a491d49a69a9fa82bca76e14d4398c',\n",
    "     'f2d3a5f58192f4fa4fd85d16989329393b2591a2',\n",
    "     '6cfda665faa5d761b83b20ccd988a90b6e6b1c88',\n",
    "     '262c4b90243fd31fa721da0f4f875c39e08e47f3',\n",
    "     '25248231feeb950a88915804733a0b736c7af93d'\n",
    "]"
   ]
  },
  {
   "cell_type": "code",
   "execution_count": 19,
   "metadata": {},
   "outputs": [],
   "source": [
    "absless_ids = list(np.load('../data/abstractless_keys.npy', allow_pickle=True))"
   ]
  },
  {
   "cell_type": "code",
   "execution_count": 20,
   "metadata": {},
   "outputs": [],
   "source": [
    "for f in list(set(faulty + absless_ids)):\n",
    "    if f in unique_ids:\n",
    "        unique_ids.pop(unique_ids.index(f))"
   ]
  },
  {
   "cell_type": "code",
   "execution_count": 21,
   "metadata": {},
   "outputs": [
    {
     "data": {
      "text/plain": [
       "24828"
      ]
     },
     "execution_count": 21,
     "metadata": {},
     "output_type": "execute_result"
    }
   ],
   "source": [
    "len(set(unique_ids))"
   ]
  },
  {
   "cell_type": "code",
   "execution_count": 22,
   "metadata": {},
   "outputs": [],
   "source": [
    "np.save('../data/unique_ids_list.npy', np.array(list(set(unique_ids))))"
   ]
  },
  {
   "cell_type": "code",
   "execution_count": 25,
   "metadata": {},
   "outputs": [],
   "source": [
    "indexes = []\n",
    "for n, ent in enumerate(cits):\n",
    "    key = list(ent.keys())[0]\n",
    "    if key not in unique_ids:\n",
    "        indexes.append(n)"
   ]
  },
  {
   "cell_type": "code",
   "execution_count": 27,
   "metadata": {},
   "outputs": [],
   "source": [
    "cits = np.delete(np.array(cits), indexes)"
   ]
  },
  {
   "cell_type": "code",
   "execution_count": 29,
   "metadata": {},
   "outputs": [],
   "source": [
    "cits = list(cits)"
   ]
  },
  {
   "cell_type": "code",
   "execution_count": 32,
   "metadata": {},
   "outputs": [],
   "source": [
    "for ent in cits:\n",
    "    key = list(ent.keys())[0]\n",
    "    tmp = []\n",
    "    refs = ent[key]\n",
    "    for ref in refs:\n",
    "        if ref in unique_ids:\n",
    "            tmp.append(ref)\n",
    "    ent[key] = tmp"
   ]
  },
  {
   "cell_type": "code",
   "execution_count": 36,
   "metadata": {},
   "outputs": [],
   "source": [
    "np.save('../data/citation_relations.npy', np.array(cits))"
   ]
  },
  {
   "cell_type": "code",
   "execution_count": null,
   "metadata": {},
   "outputs": [],
   "source": []
  }
 ],
 "metadata": {
  "kernelspec": {
   "display_name": "Python 3",
   "language": "python",
   "name": "python3"
  },
  "language_info": {
   "codemirror_mode": {
    "name": "ipython",
    "version": 3
   },
   "file_extension": ".py",
   "mimetype": "text/x-python",
   "name": "python",
   "nbconvert_exporter": "python",
   "pygments_lexer": "ipython3",
   "version": "3.8.10"
  }
 },
 "nbformat": 4,
 "nbformat_minor": 5
}
