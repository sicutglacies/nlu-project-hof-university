{
 "cells": [
  {
   "cell_type": "code",
   "execution_count": 1,
   "metadata": {},
   "outputs": [],
   "source": [
    "import os\n",
    "import time\n",
    "import json\n",
    "import numpy as np\n",
    "import requests as req\n",
    "from tqdm import tqdm\n",
    "from IPython.display import clear_output\n",
    "from concurrent.futures import ThreadPoolExecutor"
   ]
  },
  {
   "cell_type": "code",
   "execution_count": 2,
   "metadata": {},
   "outputs": [],
   "source": [
    "def make_cit_url(paper_id:str) -> str:\n",
    "    return f'https://api.semanticscholar.org/graph/v1/paper/{paper_id}/citations' \n",
    "\n",
    "def make_base_url(paper_id:str) -> str:\n",
    "    return f'https://api.semanticscholar.org/graph/v1/paper/{paper_id}'"
   ]
  },
  {
   "cell_type": "code",
   "execution_count": 3,
   "metadata": {},
   "outputs": [],
   "source": [
    "API_KEY = 'qZWKkOKyzP5g9fgjyMmBt1MN2NTC6aT61UklAiyw'\n",
    "BERT_PAPER_ID = 'df2b0e26d0599ce3e70df8a9da02e51594e0e992'\n",
    "\n",
    "headers = {'x-api-key': API_KEY}\n",
    "params = {\n",
    "    'fields': 'abstract,url,title,citationCount',\n",
    "}"
   ]
  },
  {
   "cell_type": "code",
   "execution_count": 4,
   "metadata": {},
   "outputs": [],
   "source": [
    "r = req.get(make_base_url(BERT_PAPER_ID), headers=headers, params=params)"
   ]
  },
  {
   "cell_type": "code",
   "execution_count": 5,
   "metadata": {},
   "outputs": [],
   "source": [
    "original = json.loads(r.content)"
   ]
  },
  {
   "cell_type": "code",
   "execution_count": 6,
   "metadata": {},
   "outputs": [
    {
     "data": {
      "text/plain": [
       "{'paperId': 'df2b0e26d0599ce3e70df8a9da02e51594e0e992',\n",
       " 'url': 'https://www.semanticscholar.org/paper/df2b0e26d0599ce3e70df8a9da02e51594e0e992',\n",
       " 'title': 'BERT: Pre-training of Deep Bidirectional Transformers for Language Understanding',\n",
       " 'abstract': 'We introduce a new language representation model called BERT, which stands for Bidirectional Encoder Representations from Transformers. Unlike recent language representation models (Peters et al., 2018a; Radford et al., 2018), BERT is designed to pre-train deep bidirectional representations from unlabeled text by jointly conditioning on both left and right context in all layers. As a result, the pre-trained BERT model can be fine-tuned with just one additional output layer to create state-of-the-art models for a wide range of tasks, such as question answering and language inference, without substantial task-specific architecture modifications. BERT is conceptually simple and empirically powerful. It obtains new state-of-the-art results on eleven natural language processing tasks, including pushing the GLUE score to 80.5 (7.7 point absolute improvement), MultiNLI accuracy to 86.7% (4.6% absolute improvement), SQuAD v1.1 question answering Test F1 to 93.2 (1.5 point absolute improvement) and SQuAD v2.0 Test F1 to 83.1 (5.1 point absolute improvement).',\n",
       " 'citationCount': 33399}"
      ]
     },
     "execution_count": 6,
     "metadata": {},
     "output_type": "execute_result"
    }
   ],
   "source": [
    "original"
   ]
  },
  {
   "cell_type": "code",
   "execution_count": 7,
   "metadata": {},
   "outputs": [],
   "source": [
    "def download_direct_citations(paper_id:str):\n",
    "    try:\n",
    "        params = {\n",
    "            'fields': 'abstract,url,title,citationCount',\n",
    "        }\n",
    "        params['offset'] = '0'\n",
    "        r = req.get(make_base_url(paper_id), headers=headers, params=params)\n",
    "        cit_count = json.loads(r.content)['citationCount']\n",
    "        max_cit_count = cit_count\n",
    "        chunk_size = 0\n",
    "        if cit_count > 9999: max_cit_count = 9999\n",
    "        if max_cit_count > 1000:\n",
    "            chunk_size = 1000\n",
    "        else:\n",
    "            chunk_size = max_cit_count\n",
    "\n",
    "        data = []\n",
    "        params['limit'] = str(chunk_size)\n",
    "        while len(data) < max_cit_count:\n",
    "            diff = max_cit_count - len(data)\n",
    "            if diff < int(params['limit']):\n",
    "                params['limit'] = str(diff)\n",
    "            time.sleep(0.05)\n",
    "            r = req.get(make_cit_url(paper_id), headers=headers, params=params)\n",
    "            j = json.loads(r.content)\n",
    "            data.extend(j['data'])\n",
    "            if 'next' in j.keys(): \n",
    "                params['offset'] = str(j['next'])\n",
    "            # clear_output(wait=True)\n",
    "            # print(len(data))\n",
    "        return {paper_id: data}\n",
    "    except Exception as e:\n",
    "        print(e)"
   ]
  },
  {
   "cell_type": "code",
   "execution_count": 8,
   "metadata": {},
   "outputs": [],
   "source": [
    "data = download_direct_citations(BERT_PAPER_ID)"
   ]
  },
  {
   "cell_type": "code",
   "execution_count": 13,
   "metadata": {},
   "outputs": [
    {
     "data": {
      "text/plain": [
       "{'citingPaper': {'paperId': '000aa5d7c23a43503f2de2b188f99965808b0f56',\n",
       "  'url': 'https://www.semanticscholar.org/paper/000aa5d7c23a43503f2de2b188f99965808b0f56',\n",
       "  'title': 'RuBERT Embeddings in the Task of Classifying User Posts on a Social Media',\n",
       "  'abstract': 'This paper presents models for solving the problem of multiclass classification of user posts in a social media. These models are based on embeddings extracted from messages using the RuBert language model and a fully connected neural network built over it. The models presented are compared to a baseline model using long-term short-term memory neurons (LSTM). The results will improve the accuracy of the classification posts, which in turn will improve the accuracy of assessing the psychological characteristics users.',\n",
       "  'citationCount': 0}}"
      ]
     },
     "execution_count": 13,
     "metadata": {},
     "output_type": "execute_result"
    }
   ],
   "source": [
    "data[BERT_PAPER_ID][0]"
   ]
  },
  {
   "cell_type": "code",
   "execution_count": 14,
   "metadata": {},
   "outputs": [],
   "source": [
    "np.save('../data/direct_citations.npy', data)"
   ]
  },
  {
   "cell_type": "code",
   "execution_count": 14,
   "metadata": {},
   "outputs": [],
   "source": [
    "citations_paper_ids = list(set([cit['citingPaper']['paperId'] for cit in data[BERT_PAPER_ID]]))"
   ]
  },
  {
   "cell_type": "code",
   "execution_count": 17,
   "metadata": {},
   "outputs": [],
   "source": [
    "executor = ThreadPoolExecutor(max_workers=os.cpu_count() + 4)"
   ]
  },
  {
   "cell_type": "code",
   "execution_count": 18,
   "metadata": {},
   "outputs": [
    {
     "name": "stderr",
     "output_type": "stream",
     "text": [
      " 14%|█▍        | 1447/9994 [00:14<01:06, 128.00it/s]"
     ]
    },
    {
     "name": "stdout",
     "output_type": "stream",
     "text": [
      "'citationCount'\n"
     ]
    },
    {
     "name": "stderr",
     "output_type": "stream",
     "text": [
      " 45%|████▌     | 4521/9994 [00:57<01:37, 55.89it/s] "
     ]
    },
    {
     "name": "stdout",
     "output_type": "stream",
     "text": [
      "'citationCount'\n"
     ]
    },
    {
     "name": "stderr",
     "output_type": "stream",
     "text": [
      "100%|██████████| 9994/9994 [02:18<00:00, 72.14it/s] \n"
     ]
    }
   ],
   "source": [
    "with executor as pool:\n",
    "    data_indirect = list(tqdm(pool.map(download_direct_citations, citations_paper_ids), total=len(citations_paper_ids)))"
   ]
  },
  {
   "cell_type": "code",
   "execution_count": 21,
   "metadata": {},
   "outputs": [
    {
     "data": {
      "text/plain": [
       "{'39528ef1de5a6c1b4fba44071591e9f12167769c': [{'citingPaper': {'paperId': '97af09b1436e768019aed4023cd1f9e3ccb9a635',\n",
       "    'url': 'https://www.semanticscholar.org/paper/97af09b1436e768019aed4023cd1f9e3ccb9a635',\n",
       "    'title': 'Medical Visual Question Answering: A Survey',\n",
       "    'abstract': 'aFaculty of Engineering, Monash University, Clayton, VIC, 3800 Australia beResearch Center, Monash University, Clayton, VIC, 3800 Australia cNVIDIA AI Technology Center, 038988, Singapore dState Key Laboratory of Ophthalmology, Zhongshan Ophthalmic Center, Sun Yat-Sen University, Guangzhou, 510060 China eFaculty of Information Technology, Monash University, Clayton, 3800, VIC, Australia fAustralian Centre for Robotic Vision, The University of Adelaide, Adelaide, SA 5005, Australia gEye Research Australia, Royal Victorian Eye and Ear Hospital, East Melbourne, VIC, 3002 Australia hAirdoc Research, Melbourne, VIC, 3000 Australia iMonash-NVIDIA AI Tech Centre, Melbourne, VIC, 3000 Australia',\n",
       "    'citationCount': 3}}]}"
      ]
     },
     "execution_count": 21,
     "metadata": {},
     "output_type": "execute_result"
    }
   ],
   "source": [
    "data_indirect[3]"
   ]
  },
  {
   "cell_type": "code",
   "execution_count": 22,
   "metadata": {},
   "outputs": [],
   "source": [
    "np.save('../data/data_indirect.npy', data_indirect)"
   ]
  },
  {
   "cell_type": "code",
   "execution_count": null,
   "metadata": {},
   "outputs": [],
   "source": []
  }
 ],
 "metadata": {
  "kernelspec": {
   "display_name": "Python 3",
   "language": "python",
   "name": "python3"
  },
  "language_info": {
   "codemirror_mode": {
    "name": "ipython",
    "version": 3
   },
   "file_extension": ".py",
   "mimetype": "text/x-python",
   "name": "python",
   "nbconvert_exporter": "python",
   "pygments_lexer": "ipython3",
   "version": "3.8.10"
  }
 },
 "nbformat": 4,
 "nbformat_minor": 5
}
