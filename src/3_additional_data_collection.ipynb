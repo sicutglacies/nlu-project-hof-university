{
 "cells": [
  {
   "cell_type": "code",
   "execution_count": 1,
   "metadata": {},
   "outputs": [],
   "source": [
    "import os\n",
    "import time\n",
    "import json\n",
    "import numpy as np\n",
    "import requests as req\n",
    "from tqdm import tqdm\n",
    "from IPython.display import clear_output\n",
    "from concurrent.futures import ThreadPoolExecutor"
   ]
  },
  {
   "cell_type": "code",
   "execution_count": 2,
   "metadata": {},
   "outputs": [],
   "source": [
    "def make_base_url(paper_id:str) -> str:\n",
    "    return f'https://api.semanticscholar.org/graph/v1/paper/{paper_id}/citations'"
   ]
  },
  {
   "cell_type": "code",
   "execution_count": 3,
   "metadata": {},
   "outputs": [],
   "source": [
    "API_KEY = 'qZWKkOKyzP5g9fgjyMmBt1MN2NTC6aT61UklAiyw'\n",
    "\n",
    "headers = {'x-api-key': API_KEY}\n",
    "params = {\n",
    "    'fields': 'paperId',\n",
    "}"
   ]
  },
  {
   "cell_type": "code",
   "execution_count": 5,
   "metadata": {},
   "outputs": [],
   "source": [
    "def make_request(paper_id:str):\n",
    "    r = req.get(make_base_url(paper_id), headers=headers, params=params)\n",
    "    time.sleep(0.1)\n",
    "    resp = json.loads(r.content)\n",
    "    if 'data' in resp.keys():\n",
    "        return {paper_id: resp['data']}\n",
    "    return {paper_id: []}"
   ]
  },
  {
   "cell_type": "code",
   "execution_count": 6,
   "metadata": {},
   "outputs": [],
   "source": [
    "with open('../data/cleaned_final.json', 'r') as f:\n",
    "    ids = json.load(f)"
   ]
  },
  {
   "cell_type": "code",
   "execution_count": 7,
   "metadata": {},
   "outputs": [],
   "source": [
    "ids = list(map(lambda x: x['paperId'], ids))"
   ]
  },
  {
   "cell_type": "code",
   "execution_count": 7,
   "metadata": {},
   "outputs": [],
   "source": [
    "# ids = np.load('unique_ids_list.npy', allow_pickle=True)"
   ]
  },
  {
   "cell_type": "code",
   "execution_count": 8,
   "metadata": {},
   "outputs": [],
   "source": [
    "executor = ThreadPoolExecutor(max_workers=os.cpu_count() + 4)"
   ]
  },
  {
   "cell_type": "code",
   "execution_count": 9,
   "metadata": {},
   "outputs": [
    {
     "name": "stderr",
     "output_type": "stream",
     "text": [
      "100%|██████████| 12927/12927 [04:46<00:00, 45.05it/s] \n"
     ]
    }
   ],
   "source": [
    "with executor as pool:\n",
    "    additional_data = list(tqdm(pool.map(make_request, ids), total=len(ids)))"
   ]
  },
  {
   "cell_type": "code",
   "execution_count": 11,
   "metadata": {},
   "outputs": [],
   "source": [
    "for entry in additional_data:\n",
    "    key = list(entry.keys())[0]\n",
    "    cits = []\n",
    "    if len(entry[key]) != 0:\n",
    "        for cit in entry[key]:\n",
    "            cits.append(cit['citingPaper']['paperId'])\n",
    "    entry[key] = cits"
   ]
  },
  {
   "cell_type": "code",
   "execution_count": 13,
   "metadata": {},
   "outputs": [],
   "source": [
    "id_keys = []\n",
    "for entry in additional_data:\n",
    "    key = list(entry.keys())[0]\n",
    "    id_keys.append(key)\n",
    "\n",
    "id_keys = list(set(id_keys))"
   ]
  },
  {
   "cell_type": "code",
   "execution_count": 16,
   "metadata": {},
   "outputs": [],
   "source": [
    "for entry in additional_data:\n",
    "    key = list(entry.keys())[0]\n",
    "    new = []\n",
    "    for cit in entry[key]:\n",
    "        if cit in id_keys:\n",
    "            new.append(cit)\n",
    "    entry[key] = new"
   ]
  },
  {
   "cell_type": "code",
   "execution_count": 18,
   "metadata": {},
   "outputs": [],
   "source": [
    "d = {}\n",
    "for entry in additional_data:\n",
    "    key = list(entry.keys())[0]\n",
    "    d[key] = entry[key]"
   ]
  },
  {
   "cell_type": "code",
   "execution_count": 20,
   "metadata": {},
   "outputs": [],
   "source": [
    "with open('../data/citations_relations.json', 'w') as f:\n",
    "    json.dump(d, f)"
   ]
  },
  {
   "cell_type": "code",
   "execution_count": 8,
   "metadata": {},
   "outputs": [],
   "source": [
    "faulty = []\n",
    "indexes = []\n",
    "for n, sample in enumerate(additional_data):\n",
    "    if 'error' in sample.keys():\n",
    "        faulty.append(sample['error'].split()[3])\n",
    "        indexes.append(n)"
   ]
  },
  {
   "cell_type": "code",
   "execution_count": 47,
   "metadata": {},
   "outputs": [],
   "source": [
    "indexes = []\n",
    "for n, ent in enumerate(additional_data):\n",
    "    if ent['paperId'] in faulty:\n",
    "        indexes.append(n)"
   ]
  },
  {
   "cell_type": "code",
   "execution_count": 31,
   "metadata": {},
   "outputs": [],
   "source": [
    "faulty = faulty + absless"
   ]
  },
  {
   "cell_type": "code",
   "execution_count": 32,
   "metadata": {},
   "outputs": [
    {
     "data": {
      "text/plain": [
       "['fee07fc3047af2af4b69a0989163873b39ea6cbf',\n",
       " '98cf7c59fb08827f5677c43637c42c5abc36e807',\n",
       " 'None',\n",
       " 'ff19d2d9980b47974fa2ad2d7eef154b9636fb44',\n",
       " 'a747fc1205ddd2519beb0825e28d547ca2c7c366',\n",
       " '14c33602a4730c92b2cd794e2725e3743653af08']"
      ]
     },
     "execution_count": 32,
     "metadata": {},
     "output_type": "execute_result"
    }
   ],
   "source": [
    "faulty"
   ]
  },
  {
   "cell_type": "code",
   "execution_count": 48,
   "metadata": {},
   "outputs": [],
   "source": [
    "additional_data = np.delete(np.array(additional_data), indexes)"
   ]
  },
  {
   "cell_type": "code",
   "execution_count": 33,
   "metadata": {},
   "outputs": [],
   "source": [
    "ids = list(ids)"
   ]
  },
  {
   "cell_type": "code",
   "execution_count": 35,
   "metadata": {},
   "outputs": [],
   "source": [
    "for f_id in faulty:\n",
    "    if f_id != 'None' and f_id in ids:\n",
    "        ids.pop(ids.index(f_id))"
   ]
  },
  {
   "cell_type": "code",
   "execution_count": 18,
   "metadata": {},
   "outputs": [],
   "source": [
    "cits = np.load('../data/citation_relations.npy', allow_pickle=True)"
   ]
  },
  {
   "cell_type": "code",
   "execution_count": 19,
   "metadata": {},
   "outputs": [
    {
     "data": {
      "text/plain": [
       "9128"
      ]
     },
     "execution_count": 19,
     "metadata": {},
     "output_type": "execute_result"
    }
   ],
   "source": [
    "len(cits)"
   ]
  },
  {
   "cell_type": "code",
   "execution_count": 36,
   "metadata": {},
   "outputs": [],
   "source": [
    "indexes = []\n",
    "for n, ent in enumerate(cits):\n",
    "    key = list(ent.keys())[0]\n",
    "    if key in faulty:\n",
    "        indexes.append(n)"
   ]
  },
  {
   "cell_type": "code",
   "execution_count": 37,
   "metadata": {},
   "outputs": [],
   "source": [
    "cits = np.delete(np.array(cits), indexes)"
   ]
  },
  {
   "cell_type": "code",
   "execution_count": 38,
   "metadata": {},
   "outputs": [],
   "source": [
    "cits = list(cits)"
   ]
  },
  {
   "cell_type": "code",
   "execution_count": 39,
   "metadata": {},
   "outputs": [],
   "source": [
    "for ent in cits:\n",
    "    key = list(ent.keys())[0]\n",
    "    tmp = []\n",
    "    refs = ent[key]\n",
    "    for ref in refs:\n",
    "        if ref not in faulty:\n",
    "            tmp.append(ref)\n",
    "    ent[key] = tmp"
   ]
  },
  {
   "cell_type": "code",
   "execution_count": 40,
   "metadata": {},
   "outputs": [
    {
     "data": {
      "text/plain": [
       "9127"
      ]
     },
     "execution_count": 40,
     "metadata": {},
     "output_type": "execute_result"
    }
   ],
   "source": [
    "len(cits)"
   ]
  },
  {
   "cell_type": "code",
   "execution_count": 49,
   "metadata": {},
   "outputs": [],
   "source": [
    "quick_lookup = {}\n",
    "for n, data in enumerate(additional_data):\n",
    "    try:\n",
    "        quick_lookup[data['paperId']] = {\n",
    "            'title': data['title'],\n",
    "            'abstract': data['abstract'],\n",
    "            'year': data['year'],\n",
    "            'fieldsOfStudy': data['fieldsOfStudy'],\n",
    "            'authors': data['authors'],\n",
    "            'tldr': data['tldr']\n",
    "        }\n",
    "    except Exception as e:\n",
    "        print(n, e)"
   ]
  },
  {
   "cell_type": "code",
   "execution_count": 50,
   "metadata": {},
   "outputs": [],
   "source": [
    "keys = list(quick_lookup.keys())"
   ]
  },
  {
   "cell_type": "code",
   "execution_count": 51,
   "metadata": {},
   "outputs": [],
   "source": [
    "absless = []\n",
    "for key in keys:\n",
    "    d = quick_lookup[key]\n",
    "    if d['abstract'] is None:\n",
    "        absless.append(key)"
   ]
  },
  {
   "cell_type": "code",
   "execution_count": 52,
   "metadata": {},
   "outputs": [
    {
     "data": {
      "text/plain": [
       "[]"
      ]
     },
     "execution_count": 52,
     "metadata": {},
     "output_type": "execute_result"
    }
   ],
   "source": [
    "absless"
   ]
  },
  {
   "cell_type": "code",
   "execution_count": 53,
   "metadata": {},
   "outputs": [],
   "source": [
    "np.save('../data/citation_relations.npy', np.array(cits))"
   ]
  },
  {
   "cell_type": "code",
   "execution_count": 54,
   "metadata": {},
   "outputs": [],
   "source": [
    "np.save('../data/additional_info_dict.npy', quick_lookup)"
   ]
  },
  {
   "cell_type": "code",
   "execution_count": null,
   "metadata": {},
   "outputs": [],
   "source": []
  }
 ],
 "metadata": {
  "kernelspec": {
   "display_name": "Python 3",
   "language": "python",
   "name": "python3"
  },
  "language_info": {
   "codemirror_mode": {
    "name": "ipython",
    "version": 3
   },
   "file_extension": ".py",
   "mimetype": "text/x-python",
   "name": "python",
   "nbconvert_exporter": "python",
   "pygments_lexer": "ipython3",
   "version": "3.8.10"
  }
 },
 "nbformat": 4,
 "nbformat_minor": 5
}
